{
 "cells": [
  {
   "cell_type": "code",
   "execution_count": 42,
   "id": "sound-cable",
   "metadata": {},
   "outputs": [],
   "source": [
    "import cv2 as cv\n",
    "import numpy as np"
   ]
  },
  {
   "cell_type": "code",
   "execution_count": 147,
   "id": "accepted-flashing",
   "metadata": {},
   "outputs": [],
   "source": [
    "img_raw = cv.imread('EU.jpg',cv.IMREAD_GRAYSCALE)\n",
    "blur = cv.GaussianBlur(img_raw,(5,5),0)\n",
    "ret,img_raw = cv.threshold(blur,127,255,cv.THRESH_OTSU+cv.THRESH_BINARY)"
   ]
  },
  {
   "cell_type": "code",
   "execution_count": 202,
   "id": "current-representative",
   "metadata": {},
   "outputs": [],
   "source": [
    "img_complemento = np.full(img_raw.shape,(255),np.uint8)"
   ]
  },
  {
   "cell_type": "code",
   "execution_count": 257,
   "id": "every-jenny",
   "metadata": {},
   "outputs": [],
   "source": [
    "img_b = cv.merge([img_complemento,img_raw,img_raw])\n",
    "img_g = cv.merge([img_raw,img_complemento,img_raw])\n",
    "img_r = cv.merge([img_raw,img_raw,img_complemento])\n",
    "img_black = cv.merge([img_raw,img_raw,img_raw])"
   ]
  },
  {
   "cell_type": "code",
   "execution_count": 263,
   "id": "visible-vocabulary",
   "metadata": {},
   "outputs": [],
   "source": [
    "slice_back = img_black[:,int(img_black.shape[0]/2.5):]\n",
    "slice_red = img_r[:,int(img_r.shape[0]/2.5):]\n",
    "slice_blue = img_b[:,int(img_b.shape[0]/2.5):]\n",
    "slice_green = img_g[:,int(img_g.shape[0]/2.5):]"
   ]
  },
  {
   "cell_type": "code",
   "execution_count": 264,
   "id": "common-copyright",
   "metadata": {},
   "outputs": [],
   "source": [
    "img_final = cv.hconcat([slice_back,slice_red,slice_blue,slice_green])"
   ]
  },
  {
   "cell_type": "code",
   "execution_count": 267,
   "id": "tracked-typing",
   "metadata": {},
   "outputs": [],
   "source": [
    "cv.imshow('Resultado',img_final)\n",
    "cv.waitKey()\n",
    "cv.destroyAllWindows()"
   ]
  },
  {
   "cell_type": "code",
   "execution_count": 268,
   "id": "revolutionary-motel",
   "metadata": {},
   "outputs": [
    {
     "data": {
      "text/plain": [
       "True"
      ]
     },
     "execution_count": 268,
     "metadata": {},
     "output_type": "execute_result"
    }
   ],
   "source": [
    "cv.imwrite('Eu33.jpg',img_final)"
   ]
  },
  {
   "cell_type": "code",
   "execution_count": null,
   "id": "nearby-crawford",
   "metadata": {},
   "outputs": [],
   "source": []
  }
 ],
 "metadata": {
  "kernelspec": {
   "display_name": "Python 3",
   "language": "python",
   "name": "python3"
  },
  "language_info": {
   "codemirror_mode": {
    "name": "ipython",
    "version": 3
   },
   "file_extension": ".py",
   "mimetype": "text/x-python",
   "name": "python",
   "nbconvert_exporter": "python",
   "pygments_lexer": "ipython3",
   "version": "3.9.1"
  }
 },
 "nbformat": 4,
 "nbformat_minor": 5
}
